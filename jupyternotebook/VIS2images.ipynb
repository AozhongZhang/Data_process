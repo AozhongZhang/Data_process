{
 "cells": [
  {
   "cell_type": "code",
   "execution_count": 6,
   "metadata": {},
   "outputs": [
    {
     "name": "stdout",
     "output_type": "stream",
     "text": [
      "start...\n",
      "successful...\n"
     ]
    }
   ],
   "source": [
    "'''\n",
    "第一步：for VIS video\n",
    "'''\n",
    "import os\n",
    "import os.path\n",
    "import natsort\n",
    "\n",
    "\n",
    "# rootdir=\"H:/BaiduNetdiskDownload/1000红外人像-vis\"\n",
    "rootdir=\"E:/电网数据/6.1\"\n",
    "\n",
    "savefile=\"E:/电网数据/6.1/all_vis_video_list.txt\"\n",
    "out = open(savefile,'w')\n",
    "imglist=[]\n",
    "print ('start...')\n",
    "num_list = ['1', '2', '3', '4', '5', '6', '7', '8']\n",
    "for parent,dirnames,filenames in os.walk(rootdir):\n",
    "    for filename in filenames:\n",
    "        video_num = filename.strip().split('-')[-1]\n",
    "        if video_num in num_list: \n",
    "            imglist.append(str(os.path.join(parent,filename)))\n",
    "sort_list = natsort.natsorted(imglist)\n",
    "for i in range(len(sort_list)):\n",
    "    sort_list[i] = sort_list[i].replace('\\\\', '/') \n",
    "    out.write(sort_list[i] + '\\n')\n",
    "out.close()\n",
    "print ('successful...')"
   ]
  },
  {
   "cell_type": "code",
   "execution_count": 1,
   "metadata": {},
   "outputs": [
    {
     "ename": "ModuleNotFoundError",
     "evalue": "No module named 'cv2'",
     "output_type": "error",
     "traceback": [
      "\u001b[1;31m---------------------------------------------------------------------------\u001b[0m",
      "\u001b[1;31mModuleNotFoundError\u001b[0m                       Traceback (most recent call last)",
      "\u001b[1;32m<ipython-input-1-ee09f6b56666>\u001b[0m in \u001b[0;36m<module>\u001b[1;34m\u001b[0m\n\u001b[0;32m      1\u001b[0m \u001b[1;32mimport\u001b[0m \u001b[0mos\u001b[0m\u001b[1;33m\u001b[0m\u001b[1;33m\u001b[0m\u001b[0m\n\u001b[1;32m----> 2\u001b[1;33m \u001b[1;32mimport\u001b[0m \u001b[0mcv2\u001b[0m\u001b[1;33m\u001b[0m\u001b[1;33m\u001b[0m\u001b[0m\n\u001b[0m\u001b[0;32m      3\u001b[0m \u001b[1;33m\u001b[0m\u001b[0m\n\u001b[0;32m      4\u001b[0m \u001b[0mfps\u001b[0m \u001b[1;33m=\u001b[0m \u001b[1;36m30\u001b[0m\u001b[1;33m\u001b[0m\u001b[1;33m\u001b[0m\u001b[0m\n\u001b[0;32m      5\u001b[0m \u001b[1;33m\u001b[0m\u001b[0m\n",
      "\u001b[1;31mModuleNotFoundError\u001b[0m: No module named 'cv2'"
     ]
    }
   ],
   "source": [
    "import os\n",
    "import cv2\n",
    "\n",
    "fps = 30\n",
    "\n",
    "list_file = \"H:/BaiduNetdiskDownload/1000红外人像-vis/all_vis_video_list.txt\"\n",
    "\n",
    "\n",
    "with open(list_file,'r') as f:\n",
    "    lines = f.readlines()\n",
    "for line in lines:\n",
    "    filename = line.strip()\n",
    "    print(filename)\n",
    "    save_id = filename.split('/')[4]\n",
    "    video_num = filename.strip().split('-')[-1]\n",
    "    save_dir = filename.replace(\"1000红外人像-vis\", \"1000-dataset_vis_images/VIS_images\").split('2021')[0] + str(int(save_id)) + \"/\" + video_num + \"/\"\n",
    "    print(save_dir)\n",
    "    if not os.path.exists(save_dir):\n",
    "        os.makedirs(save_dir)\n",
    "    \n",
    "    videoCapture = cv2.VideoCapture(filename)\n",
    "    count = 0\n",
    "    while True:\n",
    "        success, frame = videoCapture.read()\n",
    "        if success:\n",
    "            save_path = save_dir + str(int(save_id)) + '-' + str(count) + '.jpg'\n",
    "#             print(save_path)\n",
    "            cv2.imwrite(save_path ,frame)\n",
    "            count += 1\n",
    "        else:\n",
    "            break\n",
    "#     break"
   ]
  },
  {
   "cell_type": "code",
   "execution_count": 2,
   "metadata": {},
   "outputs": [
    {
     "ename": "KeyboardInterrupt",
     "evalue": "",
     "output_type": "error",
     "traceback": [
      "\u001b[1;31m---------------------------------------------------------------------------\u001b[0m",
      "\u001b[1;31mKeyboardInterrupt\u001b[0m                         Traceback (most recent call last)",
      "\u001b[1;32m<ipython-input-2-3e25dd620be0>\u001b[0m in \u001b[0;36m<module>\u001b[1;34m\u001b[0m\n\u001b[0;32m     53\u001b[0m     \u001b[0msum\u001b[0m\u001b[1;33m+=\u001b[0m\u001b[1;36m1\u001b[0m\u001b[1;33m\u001b[0m\u001b[1;33m\u001b[0m\u001b[0m\n\u001b[0;32m     54\u001b[0m \u001b[1;33m\u001b[0m\u001b[0m\n\u001b[1;32m---> 55\u001b[1;33m     \u001b[0msuccess\u001b[0m\u001b[1;33m,\u001b[0m \u001b[0mframe\u001b[0m \u001b[1;33m=\u001b[0m \u001b[0mcap\u001b[0m\u001b[1;33m.\u001b[0m\u001b[0mread\u001b[0m\u001b[1;33m(\u001b[0m\u001b[1;33m)\u001b[0m\u001b[1;33m\u001b[0m\u001b[1;33m\u001b[0m\u001b[0m\n\u001b[0m\u001b[0;32m     56\u001b[0m     \u001b[1;32mif\u001b[0m \u001b[0msuccess\u001b[0m \u001b[1;32mand\u001b[0m \u001b[1;33m(\u001b[0m\u001b[0msum\u001b[0m \u001b[1;33m%\u001b[0m \u001b[0mtimef\u001b[0m\u001b[1;33m==\u001b[0m\u001b[1;36m0\u001b[0m\u001b[1;33m)\u001b[0m\u001b[1;33m:\u001b[0m\u001b[1;33m\u001b[0m\u001b[1;33m\u001b[0m\u001b[0m\n\u001b[0;32m     57\u001b[0m \u001b[1;31m#             save_path = save_dir + str(int(save_id)) + '-' + str(count) + '.jpg'\u001b[0m\u001b[1;33m\u001b[0m\u001b[1;33m\u001b[0m\u001b[1;33m\u001b[0m\u001b[0m\n",
      "\u001b[1;31mKeyboardInterrupt\u001b[0m: "
     ]
    }
   ],
   "source": [
    "import os\n",
    "import cv2\n",
    "from PIL import Image\n",
    "import numpy as np\n",
    "\n",
    "\n",
    "# # cap = cv2.VideoCapture(\"D:/Download/ANMR0005.mp4\")  # 获取视频对象\n",
    "cap = cv2.VideoCapture(\"E:/dianwangshuju/6.1/YDBSP2-JLY.mp4\")\n",
    "# # print(cap)\n",
    "isOpened = cap.isOpened  # 判断是否打开\n",
    "# 视频信息获取\n",
    "# fps = cap.get(cv2.CAP_PROP_FPS)\n",
    "fps = 30\n",
    "\n",
    "# imageNum = 0\n",
    "count = 0\n",
    "sum=0\n",
    "timef=5  #隔15帧保存一张图片\n",
    "\n",
    "# print(11111111)\n",
    "# list_file = \"E:/dianwangshuju/6.1/all_vis_video_list.txt\"\n",
    "\n",
    "# with open(list_file,'r') as f:\n",
    "#     lines = f.readlines()\n",
    "# for line in lines:\n",
    "    \n",
    "#     filename = line.strip()\n",
    "#     print(filename)\n",
    "# #     save_id = filename.split('/')[-1]\n",
    "#     print(save_id)\n",
    "# #     video_num = filename.strip().split('-')[-1]\n",
    "# #     save_dir = filename.replace(\"6.1\", \"6.1image\").split('2021')[0] + str(int(save_id)) + \"/\"\n",
    "#     save_dir = filename.replace(\"6.1\", \"6.1image\") + \"/\"\n",
    "#     print(save_dir)\n",
    "#     if not os.path.exists(save_dir):\n",
    "#         os.makedirs(save_dir)\n",
    "        \n",
    "    \n",
    "#     cap = cv2.VideoCapture(filename)\n",
    "#     # print(cap)\n",
    "#     isOpened = cap.isOpened  # 判断是否打开\n",
    "#     # 视频信息获取\n",
    "#     # fps = cap.get(cv2.CAP_PROP_FPS)\n",
    "#     fps = 30\n",
    "\n",
    "#     # imageNum = 0\n",
    "#     count = 1\n",
    "#     sum=0\n",
    "#     timef=5  #隔15帧保存一张图片\n",
    "\n",
    "while (isOpened):\n",
    "\n",
    "    sum+=1\n",
    "    \n",
    "    success, frame = cap.read()\n",
    "    if success and (sum % timef==0):\n",
    "#             save_path = save_dir + str(int(save_id)) + '-' + str(count) + '.jpg'\n",
    "#             print(save_path)\n",
    "        save_path = 'E:/dianwangshuju/6.1image/YDBSP2-JLY/' + str(count) + '.jpg'\n",
    "#             save_path = save_dir + str(count) + '.jpg'\n",
    "        cv2.imwrite(save_path ,frame)\n",
    "        count += 1\n",
    "#     else:\n",
    "#         break\n",
    "\n",
    "print('finish!')\n",
    "cap.release()"
   ]
  },
  {
   "cell_type": "code",
   "execution_count": null,
   "metadata": {},
   "outputs": [],
   "source": []
  },
  {
   "cell_type": "code",
   "execution_count": null,
   "metadata": {},
   "outputs": [],
   "source": []
  }
 ],
 "metadata": {
  "kernelspec": {
   "display_name": "Python 3",
   "language": "python",
   "name": "python3"
  },
  "language_info": {
   "codemirror_mode": {
    "name": "ipython",
    "version": 3
   },
   "file_extension": ".py",
   "mimetype": "text/x-python",
   "name": "python",
   "nbconvert_exporter": "python",
   "pygments_lexer": "ipython3",
   "version": "3.8.8"
  }
 },
 "nbformat": 4,
 "nbformat_minor": 2
}
