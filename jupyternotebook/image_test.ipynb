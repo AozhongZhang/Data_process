{
 "cells": [
  {
   "cell_type": "code",
   "execution_count": 5,
   "metadata": {},
   "outputs": [
    {
     "name": "stdout",
     "output_type": "stream",
     "text": [
      "(5120, 5120, 3)\n"
     ]
    },
    {
     "data": {
      "text/plain": [
       "True"
      ]
     },
     "execution_count": 5,
     "metadata": {},
     "output_type": "execute_result"
    }
   ],
   "source": [
    "import cv2\n",
    "\n",
    "image = cv2.imread(\"D:/sm/data/detect3-1_all/2021_03_01_10_55_35_1.bmp\")\n",
    "print(image.shape)\n",
    "image = cv2.resize(image,(1024, 1024),interpolation=cv2.INTER_LINEAR)\n",
    "image = cv2.resize(image,(2048, 2048),interpolation=cv2.INTER_LINEAR)\n",
    "\n",
    "cv2.imwrite(\"D:/sm/data/20482048.jpg\", image)\n",
    "# cv2.imwrite(\"D:/sm/data/10241024.jpg\", image)"
   ]
  },
  {
   "cell_type": "code",
   "execution_count": 17,
   "metadata": {},
   "outputs": [
    {
     "data": {
      "text/plain": [
       "array([ True,  True,  True, ..., False, False, False])"
      ]
     },
     "execution_count": 17,
     "metadata": {},
     "output_type": "execute_result"
    }
   ],
   "source": [
    "import numpy as np\n",
    "\n",
    "b = np.load('C:/Users/HP/Downloads/lfw_list.npy')\n",
    "b"
   ]
  },
  {
   "cell_type": "code",
   "execution_count": 42,
   "metadata": {},
   "outputs": [],
   "source": [
    "wrong_cases_list = {}\n",
    "\n",
    "wrong_cases_list['1'] = 1\n",
    "\n",
    "probe_id = '1'\n",
    "if( str(probe_id) in wrong_cases_list.keys()):\n",
    "    wrong_cases_list[str(probe_id)] += 1\n",
    "else:\n",
    "    wrong_cases_list[probe_id] = 1"
   ]
  },
  {
   "cell_type": "code",
   "execution_count": 43,
   "metadata": {},
   "outputs": [
    {
     "data": {
      "text/plain": [
       "{'1': 2}"
      ]
     },
     "execution_count": 43,
     "metadata": {},
     "output_type": "execute_result"
    }
   ],
   "source": [
    "wrong_cases_list"
   ]
  }
 ],
 "metadata": {
  "kernelspec": {
   "display_name": "Python 3",
   "language": "python",
   "name": "python3"
  },
  "language_info": {
   "codemirror_mode": {
    "name": "ipython",
    "version": 3
   },
   "file_extension": ".py",
   "mimetype": "text/x-python",
   "name": "python",
   "nbconvert_exporter": "python",
   "pygments_lexer": "ipython3",
   "version": "3.7.3"
  }
 },
 "nbformat": 4,
 "nbformat_minor": 4
}
